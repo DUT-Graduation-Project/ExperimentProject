{
  "nbformat": 4,
  "nbformat_minor": 0,
  "metadata": {
    "colab": {
      "provenance": [],
      "gpuType": "T4"
    },
    "kernelspec": {
      "name": "python3",
      "display_name": "Python 3"
    },
    "language_info": {
      "name": "python"
    },
    "accelerator": "GPU"
  },
  "cells": [
    {
      "cell_type": "code",
      "execution_count": null,
      "metadata": {
        "colab": {
          "base_uri": "https://localhost:8080/"
        },
        "id": "vdIANtZH8ilL",
        "outputId": "6a0bb246-6cd7-4c44-bd6c-adbd6a656564"
      },
      "outputs": [
        {
          "output_type": "stream",
          "name": "stdout",
          "text": [
            "cufflinks                        0.17.3\n",
            "cupy-cuda11x                     11.0.0\n",
            "docutils                         0.18.1\n",
            "jaxlib                           0.4.14+cuda11.cudnn86\n",
            "torch                            2.0.1+cu118\n",
            "torchaudio                       2.0.2+cu118\n",
            "torchvision                      0.15.2+cu118\n"
          ]
        }
      ],
      "source": [
        "!pip list | grep \"cu\""
      ]
    },
    {
      "cell_type": "code",
      "source": [
        "!pip install paddlepaddle-gpu==2.5.1\n",
        "!pip install paddleocr\n",
        "!pip install vietocr"
      ],
      "metadata": {
        "id": "Eh_08LBxESmW"
      },
      "execution_count": null,
      "outputs": []
    },
    {
      "cell_type": "code",
      "source": [
        "!wget http://nz2.archive.ubuntu.com/ubuntu/pool/main/o/openssl/libssl1.1_1.1.1f-1ubuntu2.19_amd64.deb\n",
        "\n",
        "!sudo dpkg -i libssl1.1_1.1.1f-1ubuntu2.19_amd64.deb"
      ],
      "metadata": {
        "id": "fNMnouvkFYLz"
      },
      "execution_count": null,
      "outputs": []
    },
    {
      "cell_type": "code",
      "source": [
        "import paddle\n",
        "paddle.utils.run_check()"
      ],
      "metadata": {
        "colab": {
          "base_uri": "https://localhost:8080/"
        },
        "id": "BaAGmrBSEevR",
        "outputId": "e25ae63c-cc7b-409c-86ee-6448a6f8edbb"
      },
      "execution_count": 3,
      "outputs": [
        {
          "output_type": "stream",
          "name": "stdout",
          "text": [
            "Running verify PaddlePaddle program ... \n",
            "PaddlePaddle works well on 1 GPU.\n",
            "PaddlePaddle is installed successfully! Let's start deep learning with PaddlePaddle now.\n"
          ]
        }
      ]
    },
    {
      "cell_type": "code",
      "source": [
        "!wget https://res.cloudinary.com/hungsvdut2k2/image/upload/v1693829034/keyframes/L02_V001/0186.jpg"
      ],
      "metadata": {
        "colab": {
          "base_uri": "https://localhost:8080/"
        },
        "id": "rGXguV2iEvsk",
        "outputId": "369ebe35-439e-4b12-8106-955b0d96f22b"
      },
      "execution_count": 4,
      "outputs": [
        {
          "output_type": "stream",
          "name": "stdout",
          "text": [
            "--2023-09-05 00:24:06--  https://res.cloudinary.com/hungsvdut2k2/image/upload/v1693829034/keyframes/L02_V001/0186.jpg\n",
            "Resolving res.cloudinary.com (res.cloudinary.com)... 104.19.167.65, 104.19.166.65, 2a04:4e42::393, ...\n",
            "Connecting to res.cloudinary.com (res.cloudinary.com)|104.19.167.65|:443... connected.\n",
            "HTTP request sent, awaiting response... 200 OK\n",
            "Length: 136999 (134K) [image/jpeg]\n",
            "Saving to: ‘0186.jpg’\n",
            "\n",
            "0186.jpg            100%[===================>] 133.79K  --.-KB/s    in 0.03s   \n",
            "\n",
            "2023-09-05 00:24:06 (4.67 MB/s) - ‘0186.jpg’ saved [136999/136999]\n",
            "\n"
          ]
        }
      ]
    },
    {
      "cell_type": "code",
      "source": [
        "!gdown https://drive.google.com/uc?id=13327Y1tz1ohsm5YZMyXVMPIOjoOA0OaA"
      ],
      "metadata": {
        "colab": {
          "base_uri": "https://localhost:8080/"
        },
        "id": "s-7SRvsfPrHc",
        "outputId": "0a6b3f73-b474-4c3c-fd06-333b416ef1bc"
      },
      "execution_count": 5,
      "outputs": [
        {
          "output_type": "stream",
          "name": "stdout",
          "text": [
            "Access denied with the following error:\n",
            "\n",
            " \tCannot retrieve the public link of the file. You may need to change\n",
            "\tthe permission to 'Anyone with the link', or have had many accesses. \n",
            "\n",
            "You may still be able to access the file from the browser:\n",
            "\n",
            "\t https://drive.google.com/uc?id=13327Y1tz1ohsm5YZMyXVMPIOjoOA0OaA \n",
            "\n"
          ]
        }
      ]
    },
    {
      "cell_type": "code",
      "source": [
        "from paddleocr import PaddleOCR,draw_ocr\n",
        "from PIL import Image\n",
        "import os\n",
        "import cv2\n",
        "import matplotlib.pyplot as plt"
      ],
      "metadata": {
        "id": "ZJHexbv_Fj87"
      },
      "execution_count": 6,
      "outputs": []
    },
    {
      "cell_type": "code",
      "source": [
        "ocr = PaddleOCR(use_angle_cls=True, lang=\"en\")"
      ],
      "metadata": {
        "colab": {
          "base_uri": "https://localhost:8080/"
        },
        "id": "bnNtySM8F_jf",
        "outputId": "0afaf9e1-319a-47b8-ebf0-1aa0e536e45d"
      },
      "execution_count": 7,
      "outputs": [
        {
          "output_type": "stream",
          "name": "stdout",
          "text": [
            "download https://paddleocr.bj.bcebos.com/PP-OCRv3/english/en_PP-OCRv3_det_infer.tar to /root/.paddleocr/whl/det/en/en_PP-OCRv3_det_infer/en_PP-OCRv3_det_infer.tar\n"
          ]
        },
        {
          "output_type": "stream",
          "name": "stderr",
          "text": [
            "100%|██████████| 4.00M/4.00M [00:16<00:00, 248kiB/s] \n"
          ]
        },
        {
          "output_type": "stream",
          "name": "stdout",
          "text": [
            "download https://paddleocr.bj.bcebos.com/PP-OCRv4/english/en_PP-OCRv4_rec_infer.tar to /root/.paddleocr/whl/rec/en/en_PP-OCRv4_rec_infer/en_PP-OCRv4_rec_infer.tar\n"
          ]
        },
        {
          "output_type": "stream",
          "name": "stderr",
          "text": [
            "100%|██████████| 10.2M/10.2M [00:16<00:00, 607kiB/s] \n"
          ]
        },
        {
          "output_type": "stream",
          "name": "stdout",
          "text": [
            "download https://paddleocr.bj.bcebos.com/dygraph_v2.0/ch/ch_ppocr_mobile_v2.0_cls_infer.tar to /root/.paddleocr/whl/cls/ch_ppocr_mobile_v2.0_cls_infer/ch_ppocr_mobile_v2.0_cls_infer.tar\n"
          ]
        },
        {
          "output_type": "stream",
          "name": "stderr",
          "text": [
            "100%|██████████| 2.19M/2.19M [00:06<00:00, 320kiB/s]"
          ]
        },
        {
          "output_type": "stream",
          "name": "stdout",
          "text": [
            "[2023/09/05 00:25:18] ppocr DEBUG: Namespace(help='==SUPPRESS==', use_gpu=True, use_xpu=False, use_npu=False, ir_optim=True, use_tensorrt=False, min_subgraph_size=15, precision='fp32', gpu_mem=500, gpu_id=0, image_dir=None, page_num=0, det_algorithm='DB', det_model_dir='/root/.paddleocr/whl/det/en/en_PP-OCRv3_det_infer', det_limit_side_len=960, det_limit_type='max', det_box_type='quad', det_db_thresh=0.3, det_db_box_thresh=0.6, det_db_unclip_ratio=1.5, max_batch_size=10, use_dilation=False, det_db_score_mode='fast', det_east_score_thresh=0.8, det_east_cover_thresh=0.1, det_east_nms_thresh=0.2, det_sast_score_thresh=0.5, det_sast_nms_thresh=0.2, det_pse_thresh=0, det_pse_box_thresh=0.85, det_pse_min_area=16, det_pse_scale=1, scales=[8, 16, 32], alpha=1.0, beta=1.0, fourier_degree=5, rec_algorithm='SVTR_LCNet', rec_model_dir='/root/.paddleocr/whl/rec/en/en_PP-OCRv4_rec_infer', rec_image_inverse=True, rec_image_shape='3, 48, 320', rec_batch_num=6, max_text_length=25, rec_char_dict_path='/usr/local/lib/python3.10/dist-packages/paddleocr/ppocr/utils/en_dict.txt', use_space_char=True, vis_font_path='./doc/fonts/simfang.ttf', drop_score=0.5, e2e_algorithm='PGNet', e2e_model_dir=None, e2e_limit_side_len=768, e2e_limit_type='max', e2e_pgnet_score_thresh=0.5, e2e_char_dict_path='./ppocr/utils/ic15_dict.txt', e2e_pgnet_valid_set='totaltext', e2e_pgnet_mode='fast', use_angle_cls=True, cls_model_dir='/root/.paddleocr/whl/cls/ch_ppocr_mobile_v2.0_cls_infer', cls_image_shape='3, 48, 192', label_list=['0', '180'], cls_batch_num=6, cls_thresh=0.9, enable_mkldnn=False, cpu_threads=10, use_pdserving=False, warmup=False, sr_model_dir=None, sr_image_shape='3, 32, 128', sr_batch_num=1, draw_img_save_dir='./inference_results', save_crop_res=False, crop_res_save_dir='./output', use_mp=False, total_process_num=1, process_id=0, benchmark=False, save_log_path='./log_output/', show_log=True, use_onnx=False, return_word_box=False, output='./output', table_max_len=488, table_algorithm='TableAttn', table_model_dir=None, merge_no_span_structure=True, table_char_dict_path=None, layout_model_dir=None, layout_dict_path=None, layout_score_threshold=0.5, layout_nms_threshold=0.5, kie_algorithm='LayoutXLM', ser_model_dir=None, re_model_dir=None, use_visual_backbone=True, ser_dict_path='../train_data/XFUND/class_list_xfun.txt', ocr_order_method=None, mode='structure', image_orientation=False, layout=True, table=True, ocr=True, recovery=False, use_pdf2docx_api=False, lang='en', det=True, rec=True, type='ocr', ocr_version='PP-OCRv4', structure_version='PP-StructureV2')\n"
          ]
        },
        {
          "output_type": "stream",
          "name": "stderr",
          "text": [
            "\n"
          ]
        }
      ]
    },
    {
      "cell_type": "code",
      "source": [
        "result = ocr.ocr(\"/content/0186.jpg\")"
      ],
      "metadata": {
        "colab": {
          "base_uri": "https://localhost:8080/"
        },
        "id": "9bYmqEYcGQ4W",
        "outputId": "824b2c65-884b-4097-9388-eee538d5ef4d"
      },
      "execution_count": 8,
      "outputs": [
        {
          "output_type": "stream",
          "name": "stdout",
          "text": [
            "[2023/09/05 00:25:28] ppocr DEBUG: dt_boxes num : 5, elapse : 4.020780324935913\n",
            "[2023/09/05 00:25:28] ppocr DEBUG: cls num  : 5, elapse : 0.022671222686767578\n",
            "[2023/09/05 00:25:28] ppocr DEBUG: rec_res num  : 5, elapse : 0.0482783317565918\n"
          ]
        }
      ]
    },
    {
      "cell_type": "code",
      "source": [
        "result"
      ],
      "metadata": {
        "colab": {
          "base_uri": "https://localhost:8080/"
        },
        "id": "pJStj0cAG6JP",
        "outputId": "011f4a55-30f1-4f2a-879d-e4ed98977c64"
      },
      "execution_count": 9,
      "outputs": [
        {
          "output_type": "execute_result",
          "data": {
            "text/plain": [
              "[[[[[1047.0, 93.0], [1135.0, 93.0], [1135.0, 115.0], [1047.0, 115.0]],\n",
              "   ('18:44:17', 0.9650176763534546)],\n",
              "  [[[84.0, 110.0], [243.0, 110.0], [243.0, 136.0], [84.0, 136.0]],\n",
              "   ('TIEPTHEO', 0.9869415760040283)],\n",
              "  [[[264.0, 569.0], [296.0, 569.0], [296.0, 589.0], [264.0, 589.0]],\n",
              "   ('giay', 0.9792510271072388)],\n",
              "  [[[388.0, 581.0], [1097.0, 580.0], [1097.0, 607.0], [388.0, 609.0]],\n",
              "   ('TRIET XOA DUONG DAY DANH BAC LEN DEN 3O TY DONG', 0.9150558710098267)]]]"
            ]
          },
          "metadata": {},
          "execution_count": 9
        }
      ]
    },
    {
      "cell_type": "code",
      "source": [
        "boxes = [result[0][i][0] for i in range(len(result[0]))]"
      ],
      "metadata": {
        "id": "zUVOEh0kHT3E"
      },
      "execution_count": 10,
      "outputs": []
    },
    {
      "cell_type": "code",
      "source": [
        "boxes"
      ],
      "metadata": {
        "colab": {
          "base_uri": "https://localhost:8080/"
        },
        "id": "NFAEHP1GHo16",
        "outputId": "cd7194bf-d886-4572-b530-eb505d8d201b"
      },
      "execution_count": 11,
      "outputs": [
        {
          "output_type": "execute_result",
          "data": {
            "text/plain": [
              "[[[1047.0, 93.0], [1135.0, 93.0], [1135.0, 115.0], [1047.0, 115.0]],\n",
              " [[84.0, 110.0], [243.0, 110.0], [243.0, 136.0], [84.0, 136.0]],\n",
              " [[264.0, 569.0], [296.0, 569.0], [296.0, 589.0], [264.0, 589.0]],\n",
              " [[388.0, 581.0], [1097.0, 580.0], [1097.0, 607.0], [388.0, 609.0]]]"
            ]
          },
          "metadata": {},
          "execution_count": 11
        }
      ]
    },
    {
      "cell_type": "code",
      "source": [
        "def save_text_box(image_path:str ,boxes: list):\n",
        "  images = cv2.imread(image_path)\n",
        "  count = 0\n",
        "  for box in boxes:\n",
        "    y_min, y_max, *other = [int(point[0]) for point in box]\n",
        "    x_min, *other, x_max = [int(point[1]) for point in box]\n",
        "    region = images[x_min:x_max, y_min:y_max]\n",
        "    cv2.imwrite(f\"./output_{count}.jpg\", region)\n",
        "    count += 1"
      ],
      "metadata": {
        "id": "RmhmqCitK9cM"
      },
      "execution_count": 12,
      "outputs": []
    },
    {
      "cell_type": "code",
      "source": [
        "save_text_box(\"/content/0186.jpg\",boxes)"
      ],
      "metadata": {
        "id": "_NLPZvSBLylM"
      },
      "execution_count": 15,
      "outputs": []
    },
    {
      "cell_type": "code",
      "source": [
        "from vietocr.tool.predictor import Predictor\n",
        "from vietocr.tool.config import Cfg"
      ],
      "metadata": {
        "id": "_85-hZmyIVDw"
      },
      "execution_count": 13,
      "outputs": []
    },
    {
      "cell_type": "code",
      "source": [
        "config = Cfg.load_config_from_name('vgg_seq2seq')"
      ],
      "metadata": {
        "id": "2p3WChgKJ8aR"
      },
      "execution_count": 14,
      "outputs": []
    },
    {
      "cell_type": "code",
      "source": [
        "config['cnn']['pretrained']=True\n",
        "config['device'] = 'cuda:0'\n",
        "config['predictor']['beamsearch']=False"
      ],
      "metadata": {
        "id": "BwhgCti2KZmo"
      },
      "execution_count": 16,
      "outputs": []
    },
    {
      "cell_type": "code",
      "source": [
        "detector = Predictor(config)"
      ],
      "metadata": {
        "colab": {
          "base_uri": "https://localhost:8080/"
        },
        "id": "DItoyfgHKdSm",
        "outputId": "4bbf38df-c988-439f-b4b2-8a7919a17f5a"
      },
      "execution_count": 17,
      "outputs": [
        {
          "output_type": "stream",
          "name": "stderr",
          "text": [
            "Downloading: \"https://download.pytorch.org/models/vgg19_bn-c79401a0.pth\" to /root/.cache/torch/hub/checkpoints/vgg19_bn-c79401a0.pth\n",
            "100%|██████████| 548M/548M [00:09<00:00, 63.3MB/s]\n",
            "10935it [00:07, 1412.95it/s]\n"
          ]
        }
      ]
    },
    {
      "cell_type": "code",
      "source": [
        "img = Image.open(\"/content/output_0.jpg\")"
      ],
      "metadata": {
        "id": "akrlnSWMO7Fb"
      },
      "execution_count": 27,
      "outputs": []
    },
    {
      "cell_type": "code",
      "source": [
        "text = detector.predict(img)\n",
        "text"
      ],
      "metadata": {
        "colab": {
          "base_uri": "https://localhost:8080/",
          "height": 35
        },
        "id": "IMI10fLGPNZR",
        "outputId": "acdaae79-d044-4ce0-8f1c-881746aea32c"
      },
      "execution_count": 30,
      "outputs": [
        {
          "output_type": "execute_result",
          "data": {
            "text/plain": [
              "'18:44:17'"
            ],
            "application/vnd.google.colaboratory.intrinsic+json": {
              "type": "string"
            }
          },
          "metadata": {},
          "execution_count": 30
        }
      ]
    },
    {
      "cell_type": "code",
      "source": [],
      "metadata": {
        "id": "3MPWgd4CPPqw"
      },
      "execution_count": null,
      "outputs": []
    }
  ]
}