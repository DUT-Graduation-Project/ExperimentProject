{
 "cells": [
  {
   "cell_type": "code",
   "execution_count": 9,
   "metadata": {},
   "outputs": [],
   "source": [
    "import os\n",
    "import faiss\n",
    "import tensorflow as tf\n",
    "import tensorflow_hub as hub\n",
    "import underthesea\n",
    "\n",
    "os.environ[\"TFHUB_MODEL_LOAD_FORMAT\"] = \"UNCOMPRESSED\""
   ]
  },
  {
   "cell_type": "code",
   "execution_count": 5,
   "metadata": {},
   "outputs": [
    {
     "name": "stdout",
     "output_type": "stream",
     "text": [
      "INFO:tensorflow:Saver not created because there are no variables in the graph to restore\n"
     ]
    },
    {
     "name": "stderr",
     "output_type": "stream",
     "text": [
      "2023-08-28 20:08:20.307242: I metal_plugin/src/device/metal_device.cc:1154] Metal device set to: Apple M1\n",
      "2023-08-28 20:08:20.307284: I metal_plugin/src/device/metal_device.cc:296] systemMemory: 16.00 GB\n",
      "2023-08-28 20:08:20.307301: I metal_plugin/src/device/metal_device.cc:313] maxCacheSize: 5.33 GB\n",
      "2023-08-28 20:08:20.307694: I tensorflow/core/common_runtime/pluggable_device/pluggable_device_factory.cc:303] Could not identify NUMA node of platform GPU ID 0, defaulting to 0. Your kernel may not have been built with NUMA support.\n",
      "2023-08-28 20:08:20.307978: I tensorflow/core/common_runtime/pluggable_device/pluggable_device_factory.cc:269] Created TensorFlow device (/job:localhost/replica:0/task:0/device:GPU:0 with 0 MB memory) -> physical PluggableDevice (device: 0, name: METAL, pci bus id: <undefined>)\n",
      "2023-08-28 20:08:20.489053: I tensorflow/core/grappler/optimizers/custom_graph_optimizer_registry.cc:114] Plugin optimizer for device_type GPU is enabled.\n"
     ]
    }
   ],
   "source": [
    "module_handle = \"https://tfhub.dev/google/faster_rcnn/openimages_v4/inception_resnet_v2/1\"\n",
    "detector = hub.load(module_handle).signatures['default']"
   ]
  },
  {
   "cell_type": "code",
   "execution_count": 8,
   "metadata": {},
   "outputs": [],
   "source": [
    "query = \"khung cảnh phóng sự tại vườn hoa của người nông dân miền tây. Có rất nhiều loài hoa khác nhau đa dạng về màu sắc như màu vàng, màu trắng, màu hồng. Chuyển cảnh là một người phụ nữ đội nón lá đang ngồi chăm chú nhồi đất vào chậu cây.\""
   ]
  },
  {
   "cell_type": "code",
   "execution_count": 14,
   "metadata": {},
   "outputs": [
    {
     "name": "stdout",
     "output_type": "stream",
     "text": [
      "('khung cảnh', 'N', 'B-NP', 'O')\n",
      "('phóng sự', 'N', 'B-NP', 'O')\n",
      "('tại', 'E', 'B-PP', 'O')\n",
      "('vườn', 'N', 'B-NP', 'O')\n",
      "('hoa', 'N', 'B-NP', 'O')\n",
      "('của', 'E', 'B-PP', 'O')\n",
      "('người', 'Nc', 'B-NP', 'O')\n",
      "('nông dân', 'N', 'B-NP', 'O')\n",
      "('miền', 'N', 'B-NP', 'O')\n",
      "('tây', 'N', 'B-NP', 'O')\n",
      "('.', 'CH', 'O', 'O')\n",
      "('Có', 'V', 'B-VP', 'O')\n",
      "('rất', 'R', 'O', 'O')\n",
      "('nhiều', 'A', 'B-AP', 'O')\n",
      "('loài', 'Nc', 'B-NP', 'O')\n",
      "('hoa', 'N', 'B-NP', 'O')\n",
      "('khác', 'A', 'B-AP', 'O')\n",
      "('nhau', 'N', 'B-NP', 'O')\n",
      "('đa dạng', 'V', 'B-VP', 'O')\n",
      "('về', 'E', 'B-PP', 'O')\n",
      "('màu sắc', 'N', 'B-NP', 'O')\n",
      "('như', 'C', 'O', 'O')\n",
      "('màu', 'N', 'B-NP', 'O')\n",
      "('vàng', 'N', 'B-NP', 'O')\n",
      "(',', 'CH', 'O', 'O')\n",
      "('màu', 'N', 'B-NP', 'O')\n",
      "('trắng', 'A', 'B-AP', 'O')\n",
      "(',', 'CH', 'O', 'O')\n",
      "('màu', 'N', 'B-NP', 'O')\n",
      "('hồng', 'N', 'B-NP', 'O')\n",
      "('.', 'CH', 'O', 'O')\n",
      "('Chuyển cảnh', 'N', 'B-NP', 'O')\n",
      "('là', 'V', 'B-VP', 'O')\n",
      "('một', 'M', 'B-NP', 'O')\n",
      "('người', 'Nc', 'B-NP', 'O')\n",
      "('phụ nữ', 'N', 'B-NP', 'O')\n",
      "('đội', 'V', 'B-VP', 'O')\n",
      "('nón', 'N', 'B-NP', 'O')\n",
      "('lá', 'N', 'B-NP', 'O')\n",
      "('đang', 'R', 'O', 'O')\n",
      "('ngồi', 'V', 'B-VP', 'O')\n",
      "('chăm chú', 'A', 'B-AP', 'O')\n",
      "('nhồi', 'V', 'B-VP', 'O')\n",
      "('đất', 'N', 'B-NP', 'O')\n",
      "('vào', 'E', 'B-PP', 'O')\n",
      "('chậu', 'N', 'B-NP', 'O')\n",
      "('cây', 'N', 'B-NP', 'O')\n",
      "('.', 'CH', 'O', 'O')\n"
     ]
    }
   ],
   "source": [
    "word_segments = underthesea.ner(query)\n",
    "for value in word_segments: print(value)"
   ]
  }
 ],
 "metadata": {
  "kernelspec": {
   "display_name": "hcmai",
   "language": "python",
   "name": "python3"
  },
  "language_info": {
   "codemirror_mode": {
    "name": "ipython",
    "version": 3
   },
   "file_extension": ".py",
   "mimetype": "text/x-python",
   "name": "python",
   "nbconvert_exporter": "python",
   "pygments_lexer": "ipython3",
   "version": "3.9.16"
  },
  "orig_nbformat": 4
 },
 "nbformat": 4,
 "nbformat_minor": 2
}
